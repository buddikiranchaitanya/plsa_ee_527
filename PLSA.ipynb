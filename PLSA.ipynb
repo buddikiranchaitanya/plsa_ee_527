{
  "nbformat": 4,
  "nbformat_minor": 0,
  "metadata": {
    "colab": {
      "name": "214161002_ML_Project_PLSA.ipynb",
      "provenance": [],
      "collapsed_sections": []
    },
    "kernelspec": {
      "name": "python3",
      "display_name": "Python 3"
    },
    "language_info": {
      "name": "python"
    }
  },
  "cells": [
    {
      "cell_type": "markdown",
      "source": [
        "# <center> EE-527: Machine Learning Laboratory </center>\n",
        "# <center> PROJECT: Topic Modeling with PLSA </center>\n",
        "*****\n",
        "### <center> 214161002 - BUDDI KIRAN CHAITANYA </center>\n",
        "    \n",
        "*****"
      ],
      "metadata": {
        "id": "riXA-PK4MCmv"
      }
    },
    {
      "cell_type": "markdown",
      "source": [
        "libraries"
      ],
      "metadata": {
        "id": "vxUVV5MKQarn"
      }
    },
    {
      "cell_type": "code",
      "source": [
        "import numpy as np\n",
        "import random\n",
        "import math as M\n",
        "import matplotlib\n",
        "import matplotlib.pyplot as plt\n",
        "from tabulate import tabulate\n",
        "import pandas as pd\n",
        "\n"
      ],
      "metadata": {
        "id": "Cg56PluxMAui"
      },
      "execution_count": null,
      "outputs": []
    },
    {
      "cell_type": "markdown",
      "source": [
        "## utilities & functions block"
      ],
      "metadata": {
        "id": "F5epmZENQTog"
      }
    },
    {
      "cell_type": "code",
      "source": [
        "# function to normalise a vector v\n",
        "def normalize(v):\n",
        "    s = sum(v)\n",
        "    for i in range(len(v)):\n",
        "        v[i] = v[i] * 1.0 / s\n",
        "    return v\n",
        "\n",
        "# function to calculate the loglikehood value\n",
        "def llhood(term_doc, p_z, p_w_z, p_d_z):\n",
        "    V,D = term_doc.shape\n",
        "    Logl = 0.0\n",
        "    for w,d in zip(*term_doc.nonzero()):\n",
        "        p_d_w = np.sum(p_z * p_w_z[w,:] * p_d_z[d,:])\n",
        "        if p_d_w > 0 : \n",
        "            Logl = Logl + (term_doc[w][d] * np.log(p_d_w))\n",
        "    return Logl\n",
        "\n",
        "# function to display the top_w words, given the conditional distribution p_w_z, vocab\n",
        "def dispTopics (top_w, p_w_z, vocab, Z):\n",
        "  k=np.transpose(np.asarray(p_w_z))\n",
        "  #topic = []\n",
        "  topics=[]\n",
        "  head = [\"TOPIC \"+str(i+1) for i in range (Z)]\n",
        "  idx=[]\n",
        "  for i in range (Z):\n",
        "    idx.append(np.flip(k[i].argsort()))\n",
        "  for i in range (top_w):\n",
        "    row=[]\n",
        "    for j in range(Z):\n",
        "      row.append([ vocab[idx[j][i]], round(k[j][idx[j][i]],4) ] )\n",
        "    topics.append(row)\n",
        "  #topics.append(topic)\n",
        "  #print(tabulate(topics, headers=head, tablefmt=\"pretty\", stralign='right'))\n",
        "  rows=Z//3\n",
        "  rem=Z%3\n",
        "  for i in range(rows):\n",
        "      head=[\"TOPIC \"+str(3*i+j+1) for j in range (3)]\n",
        "      tops=[[item[3*i], item[3*i+1], item[3*i+2]] for item in topics]\n",
        "      print(tabulate(tops, headers=head, tablefmt=\"pretty\", stralign='right'))\n",
        "  head=[\"TOPIC \"+str(3*rows+1+j) for j in range (rem)]\n",
        "  tops=[[item[3*rows+j] for j in range(rem)] for item in topics]\n",
        "  print(tabulate(tops, headers=head, tablefmt=\"pretty\", stralign='right'))\n",
        "\n",
        "# function to display the log-lkelihood trajectory of the EM algorithm\n",
        "def plot_progress(i_x, l_y, point_c, line_c, corpus):\n",
        "  fig,ax=plt.subplots(figsize=(14,8))\n",
        "  ax.plot(i_x,l_y, color = line_c, ls = ':', \n",
        "          marker='.', markerfacecolor = point_c,\n",
        "          markersize = 4)\n",
        "  plt.grid()\n",
        "  plt.title ('EM Algo Progress, '+corpus)\n",
        "  plt.xlabel(\"EM iteration no\")\n",
        "  plt.ylabel(\"Log likelihood\")\n",
        "  plt.show()\n",
        "  \n",
        "\n",
        "# PLSA class, whose method getTopics will perform PLSA on the term-document matrix\n",
        "class pLSA :\n",
        "    def __init__(self):\n",
        "        pass\n",
        "    \n",
        "    def getTopics(self, term_doc, Z, eps, max_iter) : \n",
        "        V, D = term_doc.shape\n",
        "\n",
        "    # placeholder arrays for p(d|z), p(w|z), p(z)\n",
        "        p_d_z = np.zeros([D, Z], dtype=np.float64) # each row corresponds to a conditional distribution \n",
        "                                                   # on topics given doc (pi)\n",
        "        p_w_z = np.zeros([V, Z], dtype=np.float64) # each col corresponds of a a conditional \n",
        "                                                   # distribution on vocab given topic (theta)\n",
        "        p_z = np.zeros([Z], dtype=np.float64)      # latent topic total probabilities\n",
        "\n",
        "\n",
        "    # random initialisation & normalisation of the parameters \n",
        "        iter = 1\n",
        "        iter_x = []\n",
        "        p_d_z = np.random.random([D,Z])\n",
        "        for d in range(D) :                        \n",
        "          p_d_z[d] = np.copy(normalize(p_d_z[d]))\n",
        "\n",
        "        p_w_z = np.random.random([V,Z])           \n",
        "        for v_idx in range(V) :                    \n",
        "          p_w_z[v_idx]= np.copy(normalize(p_w_z[v_idx]))\n",
        "\n",
        "        p_z = np.random.random([Z])\n",
        "        p_z = np.copy(normalize(p_z))\n",
        "        l_trajectory = []\n",
        "        print (\"Parameters initialised\")\n",
        "        \n",
        "\n",
        "        # Iterates until convergance or util max_iterations reached\n",
        "        \n",
        "        pp_d_z = p_d_z.copy() # previous iteration values copied\n",
        "        pp_w_z = p_w_z.copy()\n",
        "        pp_z = p_z.copy()\n",
        "\n",
        "        while True :\n",
        "\n",
        "          p_d_z *= 0.0 # current iteration values reset\n",
        "          p_w_z *= 0.0\n",
        "          p_z *= 0.0\n",
        "\n",
        "          # EM algorithm\n",
        "          print (f\"iter'n no:{iter}, EM-Step progress..\", end=\" \")\n",
        "          for w_idx, d_idx in zip(*term_doc.nonzero()):\n",
        "\n",
        "            # E step :\n",
        "            p_z_d_w = pp_z * pp_d_z[d_idx,:] * pp_w_z[w_idx, :] # estimating the joint distribution of (d,w)\n",
        "                                                                # assignment of responsibility for a pair (d,w) to a topic\n",
        "            p_z_d_w = np.copy(normalize(p_z_d_w)) # normalisation over z\n",
        "            \n",
        "\n",
        "            # M step :\n",
        "            temp = term_doc[w_idx,d_idx] * p_z_d_w\n",
        "            p_w_z[w_idx, :] += temp # p (w|z)\n",
        "            p_d_z[d_idx, :] += temp # p (d|z)\n",
        "            p_z += temp             # p (z)\n",
        "\n",
        "          p_w_z = np.copy(normalize(p_w_z))\n",
        "          p_d_z = np.copy(normalize(p_d_z))\n",
        "          p_z = p_z / term_doc.sum()\n",
        "          print (\"EM Done, finding LogL..\", end=\" \")\n",
        "\n",
        "          # likelihood convergence check\n",
        "          l1 = llhood(term_doc, pp_z, pp_w_z, pp_d_z)\n",
        "          l2 = llhood(term_doc, p_z, p_w_z, p_d_z)\n",
        "          l_trajectory.append(l2)\n",
        "          iter_x.append(iter)\n",
        "          logLgain = l2 - l1\n",
        "          print (f\"L-Likelihood: {round(l2)}\")\n",
        "          iter+=1\n",
        "    \n",
        "          if abs(logLgain) < eps or iter>max_iter:\n",
        "            print('\\nEM ALGO HAS CONVERGED OR END OF ITERATIONS')\n",
        "            return (l2, l_trajectory, iter_x, p_d_z, p_w_z, p_z)\n",
        "\n",
        "          pp_d_z = p_d_z.copy()\n",
        "          pp_w_z = p_w_z.copy()\n",
        "          pp_z = p_z.copy()"
      ],
      "metadata": {
        "id": "b0T3Bp4NNtNY"
      },
      "execution_count": null,
      "outputs": []
    },
    {
      "cell_type": "markdown",
      "source": [
        "\n",
        "\n",
        "---\n",
        "\n"
      ],
      "metadata": {
        "id": "vGzLxe_ZYGYa"
      }
    },
    {
      "cell_type": "markdown",
      "source": [
        "## KOS Corpus"
      ],
      "metadata": {
        "id": "ZV7RdwpwBgBj"
      }
    },
    {
      "cell_type": "markdown",
      "source": [
        "#### load the KOS corpus"
      ],
      "metadata": {
        "id": "54FTomYIAbaw"
      }
    },
    {
      "cell_type": "code",
      "source": [
        "term_doc_matrix_kos = np.array([[0 for i in range (6906)] for j in range(3430)])\n",
        "with open('data/docword.kos.txt') as file:\n",
        "    for line in file:\n",
        "        word_data = line.split()\n",
        "        doc_index=int(word_data[0])-1\n",
        "        word_index=int(word_data[1])-1\n",
        "        word_count=int(word_data[2])\n",
        "        term_doc_matrix_kos [doc_index][word_index] = word_count\n"
      ],
      "metadata": {
        "id": "x2r1ro-G8i0Y"
      },
      "execution_count": null,
      "outputs": []
    },
    {
      "cell_type": "markdown",
      "source": [
        "#### Run the following cell to start the EM algorithm on KOS corpus; Z (number of topic), max_iter (max iterations) & eps (epsilon) are adjustable hyper-params. \n",
        "#### It would take around a minute for each iteration. For 8 topics & 60 iterations the run time has been 25 minutes on Colab\n",
        "#### for verifying the algorithm/code, choose a higher epsilon & lower iteration (<10) count as it will reduce runtime. "
      ],
      "metadata": {
        "id": "zJ02vzbjAOUS"
      }
    },
    {
      "cell_type": "code",
      "source": [
        "eps = 150.0 # threshold for stopping criterion, a hyper parameter\n",
        "max_iter = 60\n",
        "pmodel_kos = pLSA()\n",
        "Z = 8 # number of topics\n",
        "(l_kos, l_y_kos, i_x_kos, p_d_z_kos, p_w_z_kos, p_z_kos)  = pmodel_kos.getTopics(np.transpose(term_doc_matrix_kos), Z, eps, max_iter)"
      ],
      "metadata": {
        "id": "3uVY3jJmXl-L",
        "colab": {
          "base_uri": "https://localhost:8080/"
        },
        "outputId": "35e2e5ac-5631-409b-8de8-77032df8baae"
      },
      "execution_count": null,
      "outputs": [
        {
          "output_type": "stream",
          "name": "stdout",
          "text": [
            "Parameters initialised\n",
            "iter'n no:1, EM-Step progress.. EM Done, finding LogL.. L-Likelihood: -7379407\n",
            "iter'n no:2, EM-Step progress.. EM Done, finding LogL.. L-Likelihood: -7375045\n",
            "iter'n no:3, EM-Step progress.. EM Done, finding LogL.. L-Likelihood: -7370794\n",
            "iter'n no:4, EM-Step progress.. EM Done, finding LogL.. L-Likelihood: -7365783\n",
            "iter'n no:5, EM-Step progress.. EM Done, finding LogL.. L-Likelihood: -7358969\n",
            "iter'n no:6, EM-Step progress.. EM Done, finding LogL.. L-Likelihood: -7348972\n",
            "iter'n no:7, EM-Step progress.. EM Done, finding LogL.. L-Likelihood: -7334514\n",
            "iter'n no:8, EM-Step progress.. EM Done, finding LogL.. L-Likelihood: -7315466\n",
            "iter'n no:9, EM-Step progress.. EM Done, finding LogL.. L-Likelihood: -7293609\n",
            "iter'n no:10, EM-Step progress.. EM Done, finding LogL.. L-Likelihood: -7271895\n",
            "iter'n no:11, EM-Step progress.. EM Done, finding LogL.. L-Likelihood: -7253064\n",
            "iter'n no:12, EM-Step progress.. EM Done, finding LogL.. L-Likelihood: -7238274\n",
            "iter'n no:13, EM-Step progress.. EM Done, finding LogL.. L-Likelihood: -7226907\n",
            "iter'n no:14, EM-Step progress.. EM Done, finding LogL.. L-Likelihood: -7217986\n",
            "iter'n no:15, EM-Step progress.. EM Done, finding LogL.. L-Likelihood: -7210851\n",
            "iter'n no:16, EM-Step progress.. EM Done, finding LogL.. L-Likelihood: -7205040\n",
            "iter'n no:17, EM-Step progress.. EM Done, finding LogL.. L-Likelihood: -7200180\n",
            "iter'n no:18, EM-Step progress.. EM Done, finding LogL.. L-Likelihood: -7196015\n",
            "iter'n no:19, EM-Step progress.. EM Done, finding LogL.. L-Likelihood: -7192383\n",
            "iter'n no:20, EM-Step progress.. EM Done, finding LogL.. L-Likelihood: -7189146\n",
            "iter'n no:21, EM-Step progress.. EM Done, finding LogL.. L-Likelihood: -7186200\n",
            "iter'n no:22, EM-Step progress.. EM Done, finding LogL.. L-Likelihood: -7183484\n",
            "iter'n no:23, EM-Step progress.. EM Done, finding LogL.. L-Likelihood: -7180956\n",
            "iter'n no:24, EM-Step progress.. EM Done, finding LogL.. L-Likelihood: -7178589\n",
            "iter'n no:25, EM-Step progress.. EM Done, finding LogL.. L-Likelihood: -7176371\n",
            "iter'n no:26, EM-Step progress.. EM Done, finding LogL.. L-Likelihood: -7174317\n",
            "iter'n no:27, EM-Step progress.. EM Done, finding LogL.. L-Likelihood: -7172413\n",
            "iter'n no:28, EM-Step progress.. EM Done, finding LogL.. L-Likelihood: -7170633\n",
            "iter'n no:29, EM-Step progress.. EM Done, finding LogL.. L-Likelihood: -7168968\n",
            "iter'n no:30, EM-Step progress.. EM Done, finding LogL.. L-Likelihood: -7167416\n",
            "iter'n no:31, EM-Step progress.. EM Done, finding LogL.. L-Likelihood: -7165968\n",
            "iter'n no:32, EM-Step progress.. EM Done, finding LogL.. L-Likelihood: -7164614\n",
            "iter'n no:33, EM-Step progress.. EM Done, finding LogL.. L-Likelihood: -7163352\n",
            "iter'n no:34, EM-Step progress.. EM Done, finding LogL.. L-Likelihood: -7162182\n",
            "iter'n no:35, EM-Step progress.. EM Done, finding LogL.. L-Likelihood: -7161104\n",
            "iter'n no:36, EM-Step progress.. EM Done, finding LogL.. L-Likelihood: -7160107\n",
            "iter'n no:37, EM-Step progress.. EM Done, finding LogL.. L-Likelihood: -7159177\n",
            "iter'n no:38, EM-Step progress.. EM Done, finding LogL.. L-Likelihood: -7158304\n",
            "iter'n no:39, EM-Step progress.. EM Done, finding LogL.. L-Likelihood: -7157477\n",
            "iter'n no:40, EM-Step progress.. EM Done, finding LogL.. L-Likelihood: -7156689\n",
            "iter'n no:41, EM-Step progress.. EM Done, finding LogL.. L-Likelihood: -7155937\n",
            "iter'n no:42, EM-Step progress.. EM Done, finding LogL.. L-Likelihood: -7155219\n",
            "iter'n no:43, EM-Step progress.. EM Done, finding LogL.. L-Likelihood: -7154530\n",
            "iter'n no:44, EM-Step progress.. EM Done, finding LogL.. L-Likelihood: -7153867\n",
            "iter'n no:45, EM-Step progress.. EM Done, finding LogL.. L-Likelihood: -7153232\n",
            "iter'n no:46, EM-Step progress.. EM Done, finding LogL.. L-Likelihood: -7152623\n",
            "iter'n no:47, EM-Step progress.. EM Done, finding LogL.. L-Likelihood: -7152041\n",
            "iter'n no:48, EM-Step progress.. EM Done, finding LogL.. L-Likelihood: -7151494\n",
            "iter'n no:49, EM-Step progress.. EM Done, finding LogL.. L-Likelihood: -7150978\n",
            "iter'n no:50, EM-Step progress.. EM Done, finding LogL.. L-Likelihood: -7150487\n",
            "iter'n no:51, EM-Step progress.. EM Done, finding LogL.. L-Likelihood: -7150016\n",
            "iter'n no:52, EM-Step progress.. EM Done, finding LogL.. L-Likelihood: -7149564\n",
            "iter'n no:53, EM-Step progress.. EM Done, finding LogL.. L-Likelihood: -7149127\n",
            "iter'n no:54, EM-Step progress.. EM Done, finding LogL.. L-Likelihood: -7148702\n",
            "iter'n no:55, EM-Step progress.. EM Done, finding LogL.. L-Likelihood: -7148288\n",
            "iter'n no:56, EM-Step progress.. EM Done, finding LogL.. L-Likelihood: -7147890\n",
            "iter'n no:57, EM-Step progress.. EM Done, finding LogL.. L-Likelihood: -7147508\n",
            "iter'n no:58, EM-Step progress.. EM Done, finding LogL.. L-Likelihood: -7147139\n",
            "iter'n no:59, EM-Step progress.. EM Done, finding LogL.. L-Likelihood: -7146779\n",
            "iter'n no:60, EM-Step progress.. EM Done, finding LogL.. L-Likelihood: -7146431\n",
            "\n",
            "EM ALGO HAS CONVERGED OR END OF ITERATIONS\n"
          ]
        }
      ]
    },
    {
      "cell_type": "markdown",
      "source": [
        "#### run the following block to visualise the Log Likelihood values trajectory of EM algo on KOS corpus"
      ],
      "metadata": {
        "id": "dUkHi2nnBYom"
      }
    },
    {
      "cell_type": "code",
      "source": [
        "plot_progress(i_x_kos, l_y_kos, 'red', 'green', 'KOS Corpus')"
      ],
      "metadata": {
        "colab": {
          "base_uri": "https://localhost:8080/",
          "height": 513
        },
        "id": "Wjxa1T7r9SJu",
        "outputId": "f7cc12f1-764d-438b-d8e7-c9480c7382d6"
      },
      "execution_count": null,
      "outputs": [
        {
          "output_type": "display_data",
          "data": {
            "text/plain": [
              "<Figure size 1008x576 with 1 Axes>"
            ],
            "image/png": "[encoded data removed]"
          },
          "metadata": {
            "needs_background": "light"
          }
        }
      ]
    },
    {
      "cell_type": "markdown",
      "source": [
        "#### run the following block to display the top-w words from the topics of KOS Corpus (top-w value can be altered)"
      ],
      "metadata": {
        "id": "k-nKZYed_RZS"
      }
    },
    {
      "cell_type": "code",
      "source": [
        "vocab_kos = ['' for i in range (6906)]\n",
        "i=0\n",
        "with open('data/vocab.kos.txt') as file:\n",
        "    for line in file:\n",
        "      vocab_kos[i]=line.replace('\\n','')\n",
        "      i+=1\n",
        "\n",
        "top_w=15\n",
        "dispTopics (top_w, p_w_z_kos, vocab_kos, Z)"
      ],
      "metadata": {
        "id": "PN25O3kk8976",
        "colab": {
          "base_uri": "https://localhost:8080/"
        },
        "outputId": "e85bf63c-05ea-42c2-cea2-0ae7f142dbba"
      },
      "execution_count": null,
      "outputs": [
        {
          "output_type": "stream",
          "name": "stdout",
          "text": [
            "+-----------------------+-------------------------+-------------------------+\n",
            "|               TOPIC 1 |                 TOPIC 2 |                 TOPIC 3 |\n",
            "+-----------------------+-------------------------+-------------------------+\n",
            "|      ['bush', 0.0614] |       ['party', 0.0199] |    ['november', 0.0645] |\n",
            "|     ['kerry', 0.0233] |  ['republican', 0.0179] |        ['poll', 0.0132] |\n",
            "| ['president', 0.0156] |   ['democrats', 0.0153] |        ['house', 0.013] |\n",
            "|   ['general', 0.0134] | ['republicans', 0.0137] |     ['account', 0.0127] |\n",
            "|     ['bushs', 0.0108] |       ['state', 0.0135] |   ['electoral', 0.0124] |\n",
            "|       ['news', 0.009] |  ['democratic', 0.0126] |      ['senate', 0.0122] |\n",
            "|       ['oct', 0.0073] |       ['senate', 0.012] | ['republicans', 0.0122] |\n",
            "|  ['election', 0.0064] |         ['gop', 0.0097] |    ['governor', 0.0121] |\n",
            "|    ['voters', 0.0061] |    ['election', 0.0085] |       ['polls', 0.0117] |\n",
            "|    ['george', 0.0061] |      ['states', 0.0085] |          ['vote', 0.01] |\n",
            "|   ['percent', 0.0056] |        ['vote', 0.0076] |        ['bush', 0.0096] |\n",
            "|      ['vote', 0.0055] |   ['elections', 0.0069] |       ['kerry', 0.0092] |\n",
            "|      ['john', 0.0053] |       ['nader', 0.0056] |      ['voting', 0.0084] |\n",
            "|    ['debate', 0.0052] |     ['general', 0.0055] |     ['general', 0.0077] |\n",
            "|      ['iraq', 0.0051] |      ['ballot', 0.0053] |     ['contact', 0.0077] |\n",
            "+-----------------------+-------------------------+-------------------------+\n",
            "+----------------------------+-------------------------+----------------------------+\n",
            "|                    TOPIC 4 |                 TOPIC 5 |                    TOPIC 6 |\n",
            "+----------------------------+-------------------------+----------------------------+\n",
            "|          ['house', 0.0126] |       ['house', 0.0161] |           ['iraq', 0.0234] |\n",
            "|           ['bush', 0.0109] |     ['million', 0.0144] |            ['war', 0.0195] |\n",
            "| ['administration', 0.0092] |       ['money', 0.0143] |           ['bush', 0.0141] |\n",
            "|          ['white', 0.0067] |    ['district', 0.0137] |        ['military', 0.009] |\n",
            "|       ['campaign', 0.0065] |        ['race', 0.0128] | ['administration', 0.0073] |\n",
            "|          ['delay', 0.0061] |    ['campaign', 0.0119] |       ['american', 0.0068] |\n",
            "|           ['news', 0.0061] |  ['candidates', 0.0101] |          ['iraqi', 0.0063] |\n",
            "|      ['committee', 0.0054] |     ['elections', 0.01] |         ['troops', 0.0047] |\n",
            "|      ['president', 0.0053] |      ['senate', 0.0084] |         ['people', 0.0047] |\n",
            "|     ['commission', 0.0051] |        ['seat', 0.0076] |       ['soldiers', 0.0045] |\n",
            "|          ['press', 0.0051] |   ['candidate', 0.0075] |     ['government', 0.0044] |\n",
            "|           ['john', 0.0049] |      ['raised', 0.0072] |         ['united', 0.0044] |\n",
            "|      ['political', 0.0048] |       ['races', 0.0071] |      ['president', 0.0044] |\n",
            "|  ['investigation', 0.0039] | ['fundraising', 0.0064] |        ['security', 0.004] |\n",
            "|         ['senate', 0.0039] |  ['republican', 0.0061] |          ['saddam', 0.004] |\n",
            "+----------------------------+-------------------------+----------------------------+\n",
            "+-----------------------+----------------------------+\n",
            "|               TOPIC 7 |                    TOPIC 8 |\n",
            "+-----------------------+----------------------------+\n",
            "|     ['kerry', 0.0414] |         ['people', 0.0084] |\n",
            "|      ['dean', 0.0266] |          ['media', 0.0072] |\n",
            "|      ['poll', 0.0239] |           ['time', 0.0061] |\n",
            "|   ['edwards', 0.0167] |       ['campaign', 0.0049] |\n",
            "|   ['primary', 0.0167] |      ['political', 0.0049] |\n",
            "| ['democratic', 0.016] |            ['tax', 0.0044] |\n",
            "|      ['bush', 0.0148] |         ['america', 0.004] |\n",
            "|   ['percent', 0.0143] |          ['years', 0.0038] |\n",
            "|     ['clark', 0.0121] |           ['bush', 0.0037] |\n",
            "|     ['polls', 0.0112] |       ['politics', 0.0034] |\n",
            "|   ['results', 0.0089] |           ['year', 0.0027] |\n",
            "|      ['iowa', 0.0088] |        ['message', 0.0027] |\n",
            "|      ['race', 0.0086] | ['administration', 0.0026] |\n",
            "|   ['numbers', 0.0081] |           ['long', 0.0026] |\n",
            "|  ['gephardt', 0.0078] |      ['president', 0.0024] |\n",
            "+-----------------------+----------------------------+\n"
          ]
        }
      ]
    },
    {
      "cell_type": "markdown",
      "source": [
        "\n",
        "\n",
        "---\n",
        "\n"
      ],
      "metadata": {
        "id": "giT8Q2rP_luw"
      }
    },
    {
      "cell_type": "markdown",
      "source": [
        "## NIPS Corpus"
      ],
      "metadata": {
        "id": "7YTLw1D7FI6M"
      }
    },
    {
      "cell_type": "markdown",
      "source": [
        "#### load the NIPS corpus"
      ],
      "metadata": {
        "id": "T0DMeKReCCyx"
      }
    },
    {
      "cell_type": "code",
      "source": [
        "term_doc_matrix_nips = np.array([[0 for i in range (12419)] for j in range(1500)])\n",
        "with open('data/docword.nips.txt') as file:\n",
        "    for line in file:\n",
        "        word_data = line.split()\n",
        "        doc_index=int(word_data[0])-1\n",
        "        word_index=int(word_data[1])-1\n",
        "        word_count=int(word_data[2])\n",
        "        term_doc_matrix_nips [doc_index][word_index] = word_count\n"
      ],
      "metadata": {
        "id": "1ul38QO5XyW0"
      },
      "execution_count": null,
      "outputs": []
    },
    {
      "cell_type": "markdown",
      "source": [
        "#### Run the following cell to start the EM algorithm on NIPS corpus; Z (number of topic), max_iter (max iterations) & eps (epsilon) are adjustable hyper-params. \n",
        "#### It would take around a minute for each iteration. For 10 topics & 70 iterations the run time has been 35 minutes on Colab\n",
        "#### for verifying the algorithm/code, choose a higher epsilon & lower iteration (<10) count as it will reduce runtime. "
      ],
      "metadata": {
        "id": "odh29C5PCGD7"
      }
    },
    {
      "cell_type": "code",
      "source": [
        "eps = 200.0 # threshold for stopping criterion\n",
        "max_iter = 70\n",
        "pmodel_nips = pLSA()\n",
        "Z = 10 # number of topics\n",
        "(l_nips, l_y_nips, i_x_nips, p_d_z_nips, p_w_z_nips, p_z_nips)  = pmodel_nips.getTopics(np.transpose(term_doc_matrix_nips), Z, eps, max_iter)"
      ],
      "metadata": {
        "id": "29v65rkV1dRZ",
        "colab": {
          "base_uri": "https://localhost:8080/"
        },
        "outputId": "c5b54a1c-1fc5-4641-c702-1c308e494f5a"
      },
      "execution_count": null,
      "outputs": [
        {
          "output_type": "stream",
          "name": "stdout",
          "text": [
            "Parameters initialised\n",
            "iter'n no:1, EM-Step progress.. EM Done, finding LogL.. L-Likelihood: -29240706\n",
            "iter'n no:2, EM-Step progress.. EM Done, finding LogL.. L-Likelihood: -29222569\n",
            "iter'n no:3, EM-Step progress.. EM Done, finding LogL.. L-Likelihood: -29205233\n",
            "iter'n no:4, EM-Step progress.. EM Done, finding LogL.. L-Likelihood: -29185769\n",
            "iter'n no:5, EM-Step progress.. EM Done, finding LogL.. L-Likelihood: -29161873\n",
            "iter'n no:6, EM-Step progress.. EM Done, finding LogL.. L-Likelihood: -29131323\n",
            "iter'n no:7, EM-Step progress.. EM Done, finding LogL.. L-Likelihood: -29092301\n",
            "iter'n no:8, EM-Step progress.. EM Done, finding LogL.. L-Likelihood: -29044627\n",
            "iter'n no:9, EM-Step progress.. EM Done, finding LogL.. L-Likelihood: -28991021\n",
            "iter'n no:10, EM-Step progress.. EM Done, finding LogL.. L-Likelihood: -28936466\n",
            "iter'n no:11, EM-Step progress.. EM Done, finding LogL.. L-Likelihood: -28885637\n",
            "iter'n no:12, EM-Step progress.. EM Done, finding LogL.. L-Likelihood: -28841095\n",
            "iter'n no:13, EM-Step progress.. EM Done, finding LogL.. L-Likelihood: -28803356\n",
            "iter'n no:14, EM-Step progress.. EM Done, finding LogL.. L-Likelihood: -28771729\n",
            "iter'n no:15, EM-Step progress.. EM Done, finding LogL.. L-Likelihood: -28745148\n",
            "iter'n no:16, EM-Step progress.. EM Done, finding LogL.. L-Likelihood: -28722609\n",
            "iter'n no:17, EM-Step progress.. EM Done, finding LogL.. L-Likelihood: -28703249\n",
            "iter'n no:18, EM-Step progress.. EM Done, finding LogL.. L-Likelihood: -28686366\n",
            "iter'n no:19, EM-Step progress.. EM Done, finding LogL.. L-Likelihood: -28671534\n",
            "iter'n no:20, EM-Step progress.. EM Done, finding LogL.. L-Likelihood: -28658489\n",
            "iter'n no:21, EM-Step progress.. EM Done, finding LogL.. L-Likelihood: -28646980\n",
            "iter'n no:22, EM-Step progress.. EM Done, finding LogL.. L-Likelihood: -28636781\n",
            "iter'n no:23, EM-Step progress.. EM Done, finding LogL.. L-Likelihood: -28627668\n",
            "iter'n no:24, EM-Step progress.. EM Done, finding LogL.. L-Likelihood: -28619465\n",
            "iter'n no:25, EM-Step progress.. EM Done, finding LogL.. L-Likelihood: -28612021\n",
            "iter'n no:26, EM-Step progress.. EM Done, finding LogL.. L-Likelihood: -28605244\n",
            "iter'n no:27, EM-Step progress.. EM Done, finding LogL.. L-Likelihood: -28599078\n",
            "iter'n no:28, EM-Step progress.. EM Done, finding LogL.. L-Likelihood: -28593410\n",
            "iter'n no:29, EM-Step progress.. EM Done, finding LogL.. L-Likelihood: -28588161\n",
            "iter'n no:30, EM-Step progress.. EM Done, finding LogL.. L-Likelihood: -28583281\n",
            "iter'n no:31, EM-Step progress.. EM Done, finding LogL.. L-Likelihood: -28578717\n",
            "iter'n no:32, EM-Step progress.. EM Done, finding LogL.. L-Likelihood: -28574425\n",
            "iter'n no:33, EM-Step progress.. EM Done, finding LogL.. L-Likelihood: -28570362\n",
            "iter'n no:34, EM-Step progress.. EM Done, finding LogL.. L-Likelihood: -28566518\n",
            "iter'n no:35, EM-Step progress.. EM Done, finding LogL.. L-Likelihood: -28562893\n",
            "iter'n no:36, EM-Step progress.. EM Done, finding LogL.. L-Likelihood: -28559493\n",
            "iter'n no:37, EM-Step progress.. EM Done, finding LogL.. L-Likelihood: -28556284\n",
            "iter'n no:38, EM-Step progress.. EM Done, finding LogL.. L-Likelihood: -28553235\n",
            "iter'n no:39, EM-Step progress.. EM Done, finding LogL.. L-Likelihood: -28550326\n",
            "iter'n no:40, EM-Step progress.. EM Done, finding LogL.. L-Likelihood: -28547557\n",
            "iter'n no:41, EM-Step progress.. EM Done, finding LogL.. L-Likelihood: -28544955\n",
            "iter'n no:42, EM-Step progress.. EM Done, finding LogL.. L-Likelihood: -28542501\n",
            "iter'n no:43, EM-Step progress.. EM Done, finding LogL.. L-Likelihood: -28540166\n",
            "iter'n no:44, EM-Step progress.. EM Done, finding LogL.. L-Likelihood: -28537941\n",
            "iter'n no:45, EM-Step progress.. EM Done, finding LogL.. L-Likelihood: -28535802\n",
            "iter'n no:46, EM-Step progress.. EM Done, finding LogL.. L-Likelihood: -28533682\n",
            "iter'n no:47, EM-Step progress.. EM Done, finding LogL.. L-Likelihood: -28531593\n",
            "iter'n no:48, EM-Step progress.. EM Done, finding LogL.. L-Likelihood: -28529569\n",
            "iter'n no:49, EM-Step progress.. EM Done, finding LogL.. L-Likelihood: -28527603\n",
            "iter'n no:50, EM-Step progress.. EM Done, finding LogL.. L-Likelihood: -28525693\n",
            "iter'n no:51, EM-Step progress.. EM Done, finding LogL.. L-Likelihood: -28523853\n",
            "iter'n no:52, EM-Step progress.. EM Done, finding LogL.. L-Likelihood: -28522071\n",
            "iter'n no:53, EM-Step progress.. EM Done, finding LogL.. L-Likelihood: -28520337\n",
            "iter'n no:54, EM-Step progress.. EM Done, finding LogL.. L-Likelihood: -28518686\n",
            "iter'n no:55, EM-Step progress.. EM Done, finding LogL.. L-Likelihood: -28517157\n",
            "iter'n no:56, EM-Step progress.. EM Done, finding LogL.. L-Likelihood: -28515724\n",
            "iter'n no:57, EM-Step progress.. EM Done, finding LogL.. L-Likelihood: -28514364\n",
            "iter'n no:58, EM-Step progress.. EM Done, finding LogL.. L-Likelihood: -28513057\n",
            "iter'n no:59, EM-Step progress.. EM Done, finding LogL.. L-Likelihood: -28511791\n",
            "iter'n no:60, EM-Step progress.. EM Done, finding LogL.. L-Likelihood: -28510558\n",
            "iter'n no:61, EM-Step progress.. EM Done, finding LogL.. L-Likelihood: -28509355\n",
            "iter'n no:62, EM-Step progress.. EM Done, finding LogL.. L-Likelihood: -28508229\n",
            "iter'n no:63, EM-Step progress.. EM Done, finding LogL.. L-Likelihood: -28507181\n",
            "iter'n no:64, EM-Step progress.. EM Done, finding LogL.. L-Likelihood: -28506183\n",
            "iter'n no:65, EM-Step progress.. EM Done, finding LogL.. L-Likelihood: -28505213\n",
            "iter'n no:66, EM-Step progress.. EM Done, finding LogL.. L-Likelihood: -28504234\n",
            "iter'n no:67, EM-Step progress.. EM Done, finding LogL.. L-Likelihood: -28503235\n",
            "iter'n no:68, EM-Step progress.. EM Done, finding LogL.. L-Likelihood: -28502263\n",
            "iter'n no:69, EM-Step progress.. EM Done, finding LogL.. L-Likelihood: -28501357\n",
            "iter'n no:70, EM-Step progress.. EM Done, finding LogL.. L-Likelihood: -28500490\n",
            "\n",
            "EM ALGO HAS CONVERGED OR END OF ITERATIONS\n"
          ]
        }
      ]
    },
    {
      "cell_type": "markdown",
      "source": [
        "#### run the following block to visualise the Log Likelihood trajectory of EM algo on NIPS corpus"
      ],
      "metadata": {
        "id": "T-8vMVosB2kM"
      }
    },
    {
      "cell_type": "code",
      "source": [
        "plot_progress(i_x_nips, l_y_nips, 'red', 'dodgerblue', 'NIPS Corpus')"
      ],
      "metadata": {
        "colab": {
          "base_uri": "https://localhost:8080/",
          "height": 513
        },
        "id": "T5syO0knGCPy",
        "outputId": "ed499270-2f2d-4590-b714-91753a46c768"
      },
      "execution_count": null,
      "outputs": [
        {
          "output_type": "display_data",
          "data": {
            "text/plain": [
              "<Figure size 1008x576 with 1 Axes>"
            ],
            "image/png": "[encoded data removed]"
          },
          "metadata": {
            "needs_background": "light"
          }
        }
      ]
    },
    {
      "cell_type": "markdown",
      "source": [
        "#### run the following block to display the top-w words from the topics of NIPS Corpus (top-w value can be altered)"
      ],
      "metadata": {
        "id": "SyS75ZycCpZa"
      }
    },
    {
      "cell_type": "code",
      "source": [
        "vocab_nips = ['' for i in range (12419)]\n",
        "i=0\n",
        "with open('data/vocab.nips.txt') as file:\n",
        "    for line in file:\n",
        "      vocab_nips[i]=line.replace('\\n','')\n",
        "      i+=1\n",
        "top_w=12\n",
        "dispTopics (top_w, p_w_z_nips, vocab_nips, Z)"
      ],
      "metadata": {
        "colab": {
          "base_uri": "https://localhost:8080/"
        },
        "id": "1c89rSi0GFKS",
        "outputId": "dd584276-6c24-4add-fce2-02e74e64227c"
      },
      "execution_count": null,
      "outputs": [
        {
          "output_type": "stream",
          "name": "stdout",
          "text": [
            "+----------------------+--------------------------+---------------------------+\n",
            "|              TOPIC 1 |                  TOPIC 2 |                   TOPIC 3 |\n",
            "+----------------------+--------------------------+---------------------------+\n",
            "|  ['network', 0.0428] |        ['model', 0.0354] |      ['learning', 0.0172] |\n",
            "|   ['neural', 0.0188] |         ['data', 0.0228] |     ['algorithm', 0.0116] |\n",
            "|    ['input', 0.0166] |    ['parameter', 0.0129] |        ['action', 0.0103] |\n",
            "|    ['system', 0.013] | ['distribution', 0.0112] |      ['function', 0.0098] |\n",
            "|   ['output', 0.0125] |      ['gaussian', 0.011] |       ['problem', 0.0091] |\n",
            "| ['training', 0.0095] |    ['algorithm', 0.0103] |        ['policy', 0.0067] |\n",
            "|    ['layer', 0.0086] |  ['probability', 0.0076] |          ['step', 0.0066] |\n",
            "|      ['set', 0.0086] |   ['likelihood', 0.0073] |         ['model', 0.0062] |\n",
            "|  ['pattern', 0.0075] |       ['method', 0.0072] |        ['method', 0.0061] |\n",
            "|      ['net', 0.0074] |           ['set', 0.007] |         ['states', 0.006] |\n",
            "|     ['node', 0.0072] |         ['mean', 0.0066] |       ['optimal', 0.0059] |\n",
            "|   ['memory', 0.0067] |      ['mixture', 0.0065] | ['reinforcement', 0.0059] |\n",
            "+----------------------+--------------------------+---------------------------+\n",
            "+-------------------------+-------------------------+------------------------+\n",
            "|                 TOPIC 4 |                 TOPIC 5 |                TOPIC 6 |\n",
            "+-------------------------+-------------------------+------------------------+\n",
            "|        ['cell', 0.0219] |      ['signal', 0.0164] |        ['model', 0.02] |\n",
            "|       ['model', 0.0166] |      ['filter', 0.0101] |    ['control', 0.0186] |\n",
            "|       ['visual', 0.013] |   ['frequency', 0.0077] |     ['system', 0.0183] |\n",
            "|       ['field', 0.0112] |   ['component', 0.0077] |   ['learning', 0.0156] |\n",
            "|      ['motion', 0.0107] |        ['model', 0.007] |    ['network', 0.0135] |\n",
            "|   ['direction', 0.0101] | ['information', 0.0069] |     ['neural', 0.0114] |\n",
            "|       ['input', 0.0089] |      ['system', 0.0063] |    ['dynamic', 0.0098] |\n",
            "|      ['neuron', 0.0078] |         ['eye', 0.0059] |      ['point', 0.0077] |\n",
            "| ['orientation', 0.0074] |       ['noise', 0.0058] |      ['motor', 0.0069] |\n",
            "|      ['cortex', 0.0073] |      ['visual', 0.0054] | ['trajectory', 0.0068] |\n",
            "|        ['unit', 0.0072] |    ['analysis', 0.0052] | ['controller', 0.0064] |\n",
            "|     ['pattern', 0.0068] |    ['response', 0.0052] |   ['function', 0.0059] |\n",
            "+-------------------------+-------------------------+------------------------+\n",
            "+----------------------+-----------------------+----------------------+\n",
            "|              TOPIC 7 |               TOPIC 8 |              TOPIC 9 |\n",
            "+----------------------+-----------------------+----------------------+\n",
            "|  ['network', 0.0401] |   ['function', 0.024] |    ['neuron', 0.027] |\n",
            "|     ['unit', 0.0299] | ['algorithm', 0.0126] |    ['input', 0.0125] |\n",
            "| ['learning', 0.0291] |       ['set', 0.0113] |  ['circuit', 0.0113] |\n",
            "|   ['weight', 0.0219] |    ['vector', 0.0095] |  ['network', 0.0106] |\n",
            "|    ['input', 0.0173] |     ['error', 0.0091] |      ['model', 0.01] |\n",
            "| ['training', 0.0157] |  ['learning', 0.0084] |     ['cell', 0.0083] |\n",
            "|   ['hidden', 0.0139] |     ['point', 0.0079] | ['synaptic', 0.0083] |\n",
            "|    ['error', 0.0133] |    ['result', 0.0078] |   ['neural', 0.0082] |\n",
            "|   ['output', 0.0127] |    ['linear', 0.0077] |  ['current', 0.0076] |\n",
            "|     ['layer', 0.008] |    ['number', 0.0071] |     ['chip', 0.0074] |\n",
            "|   ['neural', 0.0078] |   ['problem', 0.0067] |   ['system', 0.0074] |\n",
            "|  ['problem', 0.0073] |     ['bound', 0.0061] |   ['analog', 0.0073] |\n",
            "+----------------------+-----------------------+----------------------+\n",
            "+----------------------------+\n",
            "|                   TOPIC 10 |\n",
            "+----------------------------+\n",
            "|    ['recognition', 0.0142] |\n",
            "|          ['image', 0.0125] |\n",
            "|            ['set', 0.0103] |\n",
            "|         ['object', 0.0089] |\n",
            "|           ['word', 0.0087] |\n",
            "|        ['feature', 0.0086] |\n",
            "|        ['network', 0.0086] |\n",
            "|         ['images', 0.0083] |\n",
            "|       ['features', 0.0081] |\n",
            "|       ['training', 0.0067] |\n",
            "|          ['system', 0.006] |\n",
            "| ['representation', 0.0059] |\n",
            "+----------------------------+\n"
          ]
        }
      ]
    },
    {
      "cell_type": "markdown",
      "source": [
        "\n",
        "\n",
        "---\n",
        "\n"
      ],
      "metadata": {
        "id": "eNNydtB6YC9M"
      }
    },
    {
      "cell_type": "markdown",
      "source": [
        "## NYT CORPUS"
      ],
      "metadata": {
        "id": "Wfmgqw7yh1-V"
      }
    },
    {
      "cell_type": "markdown",
      "source": [
        "#### load the NYT Corpus"
      ],
      "metadata": {
        "id": "Ckkt_YJuCSvJ"
      }
    },
    {
      "cell_type": "code",
      "source": [
        "with open('data/nyt_data.txt') as f:\n",
        "  docs = f.readlines()\n",
        "docs = [x.strip().strip('\\n').strip(\"'\") for x in docs] \n",
        "\n",
        "D = 8447\n",
        "V = 3012 \n",
        "term_doc_matrix_nyt = np.array([[0 for i in range (D)] for j in range(V)])\n",
        "\n",
        "for col in range(len(docs)):\n",
        "    for row in docs[col].split(','):\n",
        "        term_doc_matrix_nyt[int(row.split(':')[0])-1,col] = int(row.split(':')[1])"
      ],
      "metadata": {
        "id": "1WDsSkCHbTT9"
      },
      "execution_count": null,
      "outputs": []
    },
    {
      "cell_type": "markdown",
      "source": [
        "#### Run the following cell to start the EM algorithm on NYT corpus; Z (number of topic), max_iter (max iterations) & eps (epsilon) are adjustable hyper-params. \n",
        "#### It would take around a minute for each iteration. For 16 topics & 50 iterations the run time has been 40 minutes on Colab\n",
        "#### for verifying the algorithm/code, choose a higher epsilon & lower iteration (<10) count as it will reduce runtime. "
      ],
      "metadata": {
        "id": "aJn2aNj5CWVd"
      }
    },
    {
      "cell_type": "code",
      "source": [
        "eps = 100.0 # threshold for stopping criterion\n",
        "max_iter = 50\n",
        "pmodel_nyt = pLSA()\n",
        "Z = 16 # number of topics\n",
        "(l_nyt, l_y_nyt, i_x_nyt, p_d_z_nyt, p_w_z_nyt, p_z_nyt)  = pmodel_nyt.getTopics(term_doc_matrix_nyt, Z, eps, max_iter)"
      ],
      "metadata": {
        "id": "mHZP-jLYc31V",
        "colab": {
          "base_uri": "https://localhost:8080/"
        },
        "outputId": "b05aa627-22ba-45ca-9661-e5ba89550121"
      },
      "execution_count": 43,
      "outputs": [
        {
          "output_type": "stream",
          "name": "stdout",
          "text": [
            "Parameters initialised\n",
            "iter'n no:1, EM-Step progress.. EM Done, finding LogL.. L-Likelihood: -20005399\n",
            "iter'n no:2, EM-Step progress.. EM Done, finding LogL.. L-Likelihood: -20000769\n",
            "iter'n no:3, EM-Step progress.. EM Done, finding LogL.. L-Likelihood: -19996182\n",
            "iter'n no:4, EM-Step progress.. EM Done, finding LogL.. L-Likelihood: -19991203\n",
            "iter'n no:5, EM-Step progress.. EM Done, finding LogL.. L-Likelihood: -19985306\n",
            "iter'n no:6, EM-Step progress.. EM Done, finding LogL.. L-Likelihood: -19977754\n",
            "iter'n no:7, EM-Step progress.. EM Done, finding LogL.. L-Likelihood: -19967497\n",
            "iter'n no:8, EM-Step progress.. EM Done, finding LogL.. L-Likelihood: -19953138\n",
            "iter'n no:9, EM-Step progress.. EM Done, finding LogL.. L-Likelihood: -19933122\n",
            "iter'n no:10, EM-Step progress.. EM Done, finding LogL.. L-Likelihood: -19906372\n",
            "iter'n no:11, EM-Step progress.. EM Done, finding LogL.. L-Likelihood: -19873368\n",
            "iter'n no:12, EM-Step progress.. EM Done, finding LogL.. L-Likelihood: -19836664\n",
            "iter'n no:13, EM-Step progress.. EM Done, finding LogL.. L-Likelihood: -19799688\n",
            "iter'n no:14, EM-Step progress.. EM Done, finding LogL.. L-Likelihood: -19764844\n",
            "iter'n no:15, EM-Step progress.. EM Done, finding LogL.. L-Likelihood: -19733059\n",
            "iter'n no:16, EM-Step progress.. EM Done, finding LogL.. L-Likelihood: -19704406\n",
            "iter'n no:17, EM-Step progress.. EM Done, finding LogL.. L-Likelihood: -19678704\n",
            "iter'n no:18, EM-Step progress.. EM Done, finding LogL.. L-Likelihood: -19655760\n",
            "iter'n no:19, EM-Step progress.. EM Done, finding LogL.. L-Likelihood: -19635417\n",
            "iter'n no:20, EM-Step progress.. EM Done, finding LogL.. L-Likelihood: -19617509\n",
            "iter'n no:21, EM-Step progress.. EM Done, finding LogL.. L-Likelihood: -19601843\n",
            "iter'n no:22, EM-Step progress.. EM Done, finding LogL.. L-Likelihood: -19588185\n",
            "iter'n no:23, EM-Step progress.. EM Done, finding LogL.. L-Likelihood: -19576270\n",
            "iter'n no:24, EM-Step progress.. EM Done, finding LogL.. L-Likelihood: -19565837\n",
            "iter'n no:25, EM-Step progress.. EM Done, finding LogL.. L-Likelihood: -19556652\n",
            "iter'n no:26, EM-Step progress.. EM Done, finding LogL.. L-Likelihood: -19548518\n",
            "iter'n no:27, EM-Step progress.. EM Done, finding LogL.. L-Likelihood: -19541265\n",
            "iter'n no:28, EM-Step progress.. EM Done, finding LogL.. L-Likelihood: -19534753\n",
            "iter'n no:29, EM-Step progress.. EM Done, finding LogL.. L-Likelihood: -19528866\n",
            "iter'n no:30, EM-Step progress.. EM Done, finding LogL.. L-Likelihood: -19523509\n",
            "iter'n no:31, EM-Step progress.. EM Done, finding LogL.. L-Likelihood: -19518612\n",
            "iter'n no:32, EM-Step progress.. EM Done, finding LogL.. L-Likelihood: -19514121\n",
            "iter'n no:33, EM-Step progress.. EM Done, finding LogL.. L-Likelihood: -19509988\n",
            "iter'n no:34, EM-Step progress.. EM Done, finding LogL.. L-Likelihood: -19506177\n",
            "iter'n no:35, EM-Step progress.. EM Done, finding LogL.. L-Likelihood: -19502656\n",
            "iter'n no:36, EM-Step progress.. EM Done, finding LogL.. L-Likelihood: -19499404\n",
            "iter'n no:37, EM-Step progress.. EM Done, finding LogL.. L-Likelihood: -19496402\n",
            "iter'n no:38, EM-Step progress.. EM Done, finding LogL.. L-Likelihood: -19493633\n",
            "iter'n no:39, EM-Step progress.. EM Done, finding LogL.. L-Likelihood: -19491079\n",
            "iter'n no:40, EM-Step progress.. EM Done, finding LogL.. L-Likelihood: -19488725\n",
            "iter'n no:41, EM-Step progress.. EM Done, finding LogL.. L-Likelihood: -19486554\n",
            "iter'n no:42, EM-Step progress.. EM Done, finding LogL.. L-Likelihood: -19484544\n",
            "iter'n no:43, EM-Step progress.. EM Done, finding LogL.. L-Likelihood: -19482681\n",
            "iter'n no:44, EM-Step progress.. EM Done, finding LogL.. L-Likelihood: -19480951\n",
            "iter'n no:45, EM-Step progress.. EM Done, finding LogL.. L-Likelihood: -19479345\n",
            "iter'n no:46, EM-Step progress.. EM Done, finding LogL.. L-Likelihood: -19477849\n",
            "iter'n no:47, EM-Step progress.. EM Done, finding LogL.. L-Likelihood: -19476448\n",
            "iter'n no:48, EM-Step progress.. EM Done, finding LogL.. L-Likelihood: -19475139\n",
            "iter'n no:49, EM-Step progress.. EM Done, finding LogL.. L-Likelihood: -19473912\n",
            "iter'n no:50, EM-Step progress.. EM Done, finding LogL.. L-Likelihood: -19472758\n",
            "\n",
            "EM ALGO HAS CONVERGED OR END OF ITERATIONS\n"
          ]
        }
      ]
    },
    {
      "cell_type": "markdown",
      "source": [
        "#### run the following block to visualise the Log Likelihood trajectory of EM algo on NYT corpus"
      ],
      "metadata": {
        "id": "B3Uj6XrbB8F3"
      }
    },
    {
      "cell_type": "code",
      "source": [
        "plot_progress(i_x_nyt, l_y_nyt, 'lime', 'purple', 'NYT Corpus')"
      ],
      "metadata": {
        "id": "p5mHND54dJvB",
        "colab": {
          "base_uri": "https://localhost:8080/",
          "height": 513
        },
        "outputId": "5ed72a05-4ebe-4fdd-ea47-4c85208c6032"
      },
      "execution_count": 48,
      "outputs": [
        {
          "output_type": "display_data",
          "data": {
            "text/plain": [
              "<Figure size 1008x576 with 1 Axes>"
            ],
            "image/png": "[encoded data removed]"
          },
          "metadata": {
            "needs_background": "light"
          }
        }
      ]
    },
    {
      "cell_type": "markdown",
      "source": [
        "#### run the following block to display the top-w words from the topics of NYT Corpus (top-w value can be altered)"
      ],
      "metadata": {
        "id": "Th5_idfnCtaS"
      }
    },
    {
      "cell_type": "code",
      "source": [
        "# contains vocabs with rows as index\n",
        "with open('data/nyt_vocab.dat') as f:\n",
        "    vocab_nyt = f.readlines()\n",
        "vocab_nyt = [x.strip().strip('\\n').strip(\"'\") for x in vocab_nyt] \n",
        "\n",
        "top_w=10\n",
        "dispTopics (top_w, p_w_z_nyt, vocab_nyt, Z)\n"
      ],
      "metadata": {
        "id": "shhZemZkb4cJ",
        "colab": {
          "base_uri": "https://localhost:8080/"
        },
        "outputId": "0d74a8e5-8c77-4119-c1a3-bf9ac3fe69f9"
      },
      "execution_count": 49,
      "outputs": [
        {
          "output_type": "stream",
          "name": "stdout",
          "text": [
            "+-----------------------+------------------------+----------------------+\n",
            "|               TOPIC 1 |                TOPIC 2 |              TOPIC 3 |\n",
            "+-----------------------+------------------------+----------------------+\n",
            "|   ['official', 0.027] |   ['campaign', 0.0168] |   ['police', 0.0139] |\n",
            "| ['yesterday', 0.0189] |       ['vote', 0.0162] |     ['city', 0.0135] |\n",
            "|   ['comment', 0.0155] |  ['political', 0.0148] |   ['street', 0.0123] |\n",
            "|    ['report', 0.0151] | ['republican', 0.0121] | ['building', 0.0121] |\n",
            "|      ['news', 0.0135] |   ['candidate', 0.012] |    ['house', 0.0104] |\n",
            "|    ['office', 0.0125] |   ['election', 0.0113] |      ['man', 0.0102] |\n",
            "|      ['tell', 0.0117] |      ['party', 0.0113] |     ['kill', 0.0096] |\n",
            "| ['spokesman', 0.0115] |     ['leader', 0.0096] |     ['home', 0.0085] |\n",
            "|   ['request', 0.0107] | ['democratic', 0.0093] |     ['live', 0.0084] |\n",
            "|     ['meeting', 0.01] |      ['state', 0.0092] | ['resident', 0.0081] |\n",
            "+-----------------------+------------------------+----------------------+\n",
            "+----------------------+---------------------+----------------------+\n",
            "|              TOPIC 4 |             TOPIC 5 |              TOPIC 6 |\n",
            "+----------------------+---------------------+----------------------+\n",
            "|  ['percent', 0.0168] | ['student', 0.0166] |     ['life', 0.0096] |\n",
            "|   ['market', 0.0151] |  ['school', 0.0131] |     ['write', 0.009] |\n",
            "|  ['company', 0.0124] |     ['art', 0.0128] |     ['book', 0.0087] |\n",
            "| ['industry', 0.0105] | ['program', 0.0083] |    ['world', 0.0072] |\n",
            "|    ['price', 0.0104] |   ['child', 0.0073] |    ['editor', 0.007] |\n",
            "|  ['product', 0.0095] |  ['artist', 0.0071] |      ['man', 0.0068] |\n",
            "|      ['rise', 0.009] |   ['design', 0.006] |     ['word', 0.0057] |\n",
            "|     ['rate', 0.0085] |   ['class', 0.0056] |    ['great', 0.0057] |\n",
            "|  ['analyst', 0.0075] |  ['museum', 0.0056] | ['american', 0.0052] |\n",
            "|     ['fall', 0.0071] |  ['create', 0.0055] |     ['thing', 0.005] |\n",
            "+----------------------+---------------------+----------------------+\n",
            "+-----------------------+----------------------+---------------------+\n",
            "|               TOPIC 7 |              TOPIC 8 |             TOPIC 9 |\n",
            "+-----------------------+----------------------+---------------------+\n",
            "|   ['company', 0.0299] |   ['father', 0.0188] |    ['game', 0.0181] |\n",
            "|       ['sell', 0.014] |   ['mother', 0.0157] |    ['team', 0.0161] |\n",
            "|       ['buy', 0.0115] |      ['son', 0.0157] |    ['play', 0.0155] |\n",
            "|  ['business', 0.0112] |   ['family', 0.0143] |     ['win', 0.0132] |\n",
            "| ['executive', 0.0107] |      ['mrs', 0.0142] |  ['season', 0.0117] |\n",
            "|      ['sale', 0.0098] |    ['child', 0.0141] |  ['player', 0.0116] |\n",
            "|     ['offer', 0.0098] |    ['woman', 0.0132] |  ['second', 0.0108] |\n",
            "| ['president', 0.0095] | ['daughter', 0.0122] | ['victory', 0.0078] |\n",
            "|   ['service', 0.0093] |   ['friend', 0.0122] |   ['point', 0.0075] |\n",
            "|      ['plan', 0.0092] |     ['wife', 0.0121] |    ['lose', 0.0074] |\n",
            "+-----------------------+----------------------+---------------------+\n",
            "+------------------------+---------------------+------------------------+\n",
            "|               TOPIC 10 |            TOPIC 11 |               TOPIC 12 |\n",
            "+------------------------+---------------------+------------------------+\n",
            "|       ['food', 0.0143] |     ['pay', 0.0122] |       ['play', 0.0142] |\n",
            "|      ['serve', 0.0088] |   ['state', 0.0109] |      ['music', 0.0132] |\n",
            "|      ['water', 0.0078] |   ['money', 0.0106] | ['performance', 0.008] |\n",
            "| ['restaurant', 0.0073] |    ['plan', 0.0095] |   ['audience', 0.0074] |\n",
            "|      ['fresh', 0.0072] |    ['cost', 0.0083] |      ['sound', 0.0071] |\n",
            "|        ['oil', 0.0068] |      ['tax', 0.008] |      ['stage', 0.0066] |\n",
            "|        ['add', 0.0066] |  ['budget', 0.0074] |      ['night', 0.0061] |\n",
            "|      ['pound', 0.0064] |     ['job', 0.0073] | ['production', 0.0058] |\n",
            "|      ['small', 0.0064] |    ['city', 0.0073] |       ['song', 0.0057] |\n",
            "|      ['taste', 0.0063] | ['program', 0.0072] |    ['theater', 0.0054] |\n",
            "+------------------------+---------------------+------------------------+\n",
            "+----------------------+--------------------+------------------------+\n",
            "|             TOPIC 13 |           TOPIC 14 |               TOPIC 15 |\n",
            "+----------------------+--------------------+------------------------+\n",
            "|      ['study', 0.01] |   ['case', 0.0179] | ['government', 0.0137] |\n",
            "|     ['drug', 0.0097] |  ['court', 0.0148] |     ['states', 0.0109] |\n",
            "|   ['health', 0.0096] | ['lawyer', 0.0142] |   ['official', 0.0102] |\n",
            "|  ['problem', 0.0084] |    ['law', 0.0141] |      ['country', 0.01] |\n",
            "|  ['medical', 0.0081] | ['charge', 0.0121] |   ['american', 0.0098] |\n",
            "|    ['doctor', 0.008] |  ['judge', 0.0107] |   ['military', 0.0086] |\n",
            "|    ['cause', 0.0078] |  ['legal', 0.0088] |     ['leader', 0.0082] |\n",
            "|     ['test', 0.0076] |  ['trial', 0.0073] |      ['force', 0.0081] |\n",
            "| ['research', 0.0073] |  ['state', 0.0071] |        ['war', 0.0071] |\n",
            "|  ['patient', 0.0072] |   ['rule', 0.0067] |     ['policy', 0.0056] |\n",
            "+----------------------+--------------------+------------------------+\n",
            "+--------------------+\n",
            "|           TOPIC 16 |\n",
            "+--------------------+\n",
            "|   ['mile', 0.0066] |\n",
            "|  ['water', 0.0058] |\n",
            "|  ['thing', 0.0058] |\n",
            "|  ['place', 0.0057] |\n",
            "|   ['line', 0.0055] |\n",
            "|   ['keep', 0.0055] |\n",
            "| ['little', 0.0054] |\n",
            "|    ['car', 0.0054] |\n",
            "|  ['start', 0.0052] |\n",
            "|     ['big', 0.005] |\n",
            "+--------------------+\n"
          ]
        }
      ]
    },
    {
      "cell_type": "markdown",
      "source": [
        "*****\n",
        "*****\n",
        "-----------------------------------------------END OF PROJECT---------------------"
      ],
      "metadata": {
        "id": "XqKKp5yDXVSl"
      }
    }
  ]
}