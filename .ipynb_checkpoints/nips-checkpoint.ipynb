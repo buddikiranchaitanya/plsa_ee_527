{
 "cells": [
  {
   "cell_type": "code",
   "execution_count": 1,
   "metadata": {
    "colab": {
     "base_uri": "https://localhost:8080/"
    },
    "id": "pYYEXGRBbyku",
    "outputId": "24951ba3-b983-4f92-c74c-7fa08895eb02"
   },
   "outputs": [
    {
     "name": "stdout",
     "output_type": "stream",
     "text": [
      "Mounted at /content/gdrive\n"
     ]
    }
   ],
   "source": [
    "from google.colab import drive\n",
    "drive.mount('/content/gdrive')\n",
    "import sys\n",
    "import os\n",
    "\n",
    "py_file_location = \"/content/gdrive/My Drive/Colab Notebooks/data\"\n",
    "sys.path.append(os.path.abspath(py_file_location))"
   ]
  },
  {
   "cell_type": "code",
   "execution_count": 1,
   "metadata": {
    "id": "iBnZOgKrb0pU"
   },
   "outputs": [],
   "source": [
    "import my_utils\n",
    "from my_utils import performPLSA\n",
    "from my_utils import plot_progress\n",
    "from my_utils import dispTopics"
   ]
  },
  {
   "cell_type": "markdown",
   "metadata": {
    "id": "CKKAS_vWb9Zz"
   },
   "source": [
    "## Run the following cell to start the EM algorithm on NIPS corpus; number of 'topics', 'max_iterations' & 'epsilon' are adjustable. It would take around a minute for each iteration. For 16 topics & 70 iterations the run time has been 40 minutes on Colab"
   ]
  },
  {
   "cell_type": "code",
   "execution_count": 2,
   "metadata": {
    "colab": {
     "base_uri": "https://localhost:8080/"
    },
    "id": "5FBi3LYMb__M",
    "outputId": "410b80fa-7791-4dff-8fcc-ee06b4ac5c0e"
   },
   "outputs": [
    {
     "name": "stdout",
     "output_type": "stream",
     "text": [
      "Parameters initialised\n",
      "iteration no 1: EM Step in progress.. EM Done, calculating LogL.. Log Likelihood value: -29247353\n",
      "iteration no 2: EM Step in progress.. EM Done, calculating LogL.. Log Likelihood value: -29230343\n",
      "\n",
      "EM ALGO HAS CONVERGED OR END OF ITERATIONS\n"
     ]
    }
   ],
   "source": [
    "# adjustable parameters\n",
    "topics = 8       # number of topics to be mined, larger the topic count, longer is the runtime\n",
    "max_iterations=2 # modify this to a small number like 5-10, if you are impatient, for each iteration takes over a minute\n",
    "epsilon =200\n",
    "# end of adjustable parameters\n",
    "\n",
    "(l_nips, l_y_nips, i_x_nips, p_d_z_nips, p_w_z_nips, p_z_nips)  = performPLSA(corpus='nips', topics=topics, max_iterations=max_iterations, epsilon=epsilon)"
   ]
  },
  {
   "cell_type": "markdown",
   "metadata": {
    "id": "cBpumWuwcPxU"
   },
   "source": [
    "## Run the following cell, after the EM algorithm is done to visualise the trajectory of LogLikeihood values"
   ]
  },
  {
   "cell_type": "code",
   "execution_count": 3,
   "metadata": {
    "colab": {
     "base_uri": "https://localhost:8080/",
     "height": 513
    },
    "id": "UA5-8Xm1b-Mk",
    "outputId": "7334ef05-b005-4fc1-805a-bd5f882c0eb5"
   },
   "outputs": [
    {
     "data": {
      "image/png": "[encoded data removed]",
      "text/plain": [
       "<Figure size 1008x576 with 1 Axes>"
      ]
     },
     "metadata": {
      "needs_background": "light"
     },
     "output_type": "display_data"
    }
   ],
   "source": [
    "plot_progress(i_x_nips, l_y_nips, 'red', 'steelblue', 'NIPS Corpus')"
   ]
  },
  {
   "cell_type": "markdown",
   "metadata": {
    "id": "gNGRCoMZcYFT"
   },
   "source": [
    "## Run the following cell, after EM algorith is done, to get a tabular display of the NIPS topics, here the 'top_w' parameter correspond to the yop number of words that are desired from each topic."
   ]
  },
  {
   "cell_type": "code",
   "execution_count": 5,
   "metadata": {
    "colab": {
     "base_uri": "https://localhost:8080/"
    },
    "id": "dK98W_7Ycbmt",
    "outputId": "6ee6fd61-0fd2-4245-cd8d-bf6a45bd2421"
   },
   "outputs": [
    {
     "name": "stdout",
     "output_type": "stream",
     "text": [
      "+---------------------+------------------+--------------------+----------------------+--------------------+---------------------+---------------------+----------------------+\n",
      "|                     |                  |                    |                      |            TOPIC 1 |             TOPIC 2 |             TOPIC 3 |              TOPIC 4 |\n",
      "+---------------------+------------------+--------------------+----------------------+--------------------+---------------------+---------------------+----------------------+\n",
      "| ['network', 0.0233] | ['input', 0.014] | ['network', 0.015] |    ['model', 0.0135] |  ['input', 0.0127] | ['network', 0.0254] | ['network', 0.0199] |   ['neural', 0.0121] |\n",
      "|   ['model', 0.0173] | ['data', 0.0109] |  ['model', 0.0144] | ['learning', 0.0107] | ['neural', 0.0122] |   ['error', 0.0094] |  ['neural', 0.0103] | ['learning', 0.0083] |\n",
      "+---------------------+------------------+--------------------+----------------------+--------------------+---------------------+---------------------+----------------------+\n",
      "+----------------------+--------------------+--------------------+-----------------------+----------------------+--------------------+----------------------+----------------------+\n",
      "|                      |                    |                    |                       |                      |                    |                      |              TOPIC 2 |\n",
      "+----------------------+--------------------+--------------------+-----------------------+----------------------+--------------------+----------------------+----------------------+\n",
      "| ['learning', 0.0115] |  ['error', 0.0093] | ['neural', 0.0134] | ['algorithm', 0.0102] |     ['data', 0.0121] |   ['data', 0.0091] | ['function', 0.0088] | ['function', 0.0079] |\n",
      "|      ['set', 0.0094] | ['method', 0.0076] |  ['input', 0.0099] |  ['function', 0.0093] |    ['model', 0.0111] |  ['input', 0.0078] | ['learning', 0.0088] | ['training', 0.0074] |\n",
      "|     ['data', 0.0086] | ['signal', 0.0072] | ['system', 0.0092] |    ['system', 0.0082] | ['function', 0.0089] | ['result', 0.0072] |    ['error', 0.0085] |   ['method', 0.0064] |\n",
      "+----------------------+--------------------+--------------------+-----------------------+----------------------+--------------------+----------------------+----------------------+\n",
      "+----------------------+----------------------+-----------------------+-------------------+----------------------+--------------------+-----------------------+---------------------+\n",
      "|                      |                      |                       |                   |                      |            TOPIC 5 |               TOPIC 6 |             TOPIC 7 |\n",
      "+----------------------+----------------------+-----------------------+-------------------+----------------------+--------------------+-----------------------+---------------------+\n",
      "|   ['weight', 0.0086] |   ['neural', 0.0068] | ['algorithm', 0.0078] |    ['set', 0.008] | ['learning', 0.0082] |    ['set', 0.0071] |    ['system', 0.0085] |   ['point', 0.0063] |\n",
      "| ['function', 0.0071] | ['learning', 0.0064] |       ['data', 0.006] | ['input', 0.0079] |   ['weight', 0.0075] | ['neural', 0.0063] | ['algorithm', 0.0077] | ['network', 0.0059] |\n",
      "+----------------------+----------------------+-----------------------+-------------------+----------------------+--------------------+-----------------------+---------------------+\n"
     ]
    }
   ],
   "source": [
    "# adjustable parameter\n",
    "top_w = 12\n",
    "# end of adjustable parameters\n",
    "\n",
    "vocab_nips = ['' for i in range (12419)]\n",
    "i=0\n",
    "with open('data/vocab.nips.txt') as file:\n",
    "    for line in file:\n",
    "      vocab_nips[i]=line.replace('\\n','')\n",
    "      i+=1\n",
    "\n",
    "dispTopics (top_w, p_w_z_nips, vocab_nips, topics)"
   ]
  },
  {
   "cell_type": "code",
   "execution_count": null,
   "metadata": {
    "id": "NSwuCi5rb2M8"
   },
   "outputs": [],
   "source": []
  }
 ],
 "metadata": {
  "colab": {
   "name": "Untitled0.ipynb",
   "provenance": []
  },
  "kernelspec": {
   "display_name": "Python 3 (ipykernel)",
   "language": "python",
   "name": "python3"
  },
  "language_info": {
   "codemirror_mode": {
    "name": "ipython",
    "version": 3
   },
   "file_extension": ".py",
   "mimetype": "text/x-python",
   "name": "python",
   "nbconvert_exporter": "python",
   "pygments_lexer": "ipython3",
   "version": "3.9.7"
  }
 },
 "nbformat": 4,
 "nbformat_minor": 1
}
