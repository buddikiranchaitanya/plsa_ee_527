{
 "cells": [
  {
   "cell_type": "code",
   "execution_count": 3,
   "metadata": {
    "colab": {
     "base_uri": "https://localhost:8080/"
    },
    "id": "93muXn1hXGEY",
    "outputId": "1a05cff8-6614-42e5-e60b-dc590b092aff"
   },
   "outputs": [
    {
     "name": "stdout",
     "output_type": "stream",
     "text": [
      "Mounted at /content/gdrive\n"
     ]
    }
   ],
   "source": [
    "from google.colab import drive\n",
    "drive.mount('/content/gdrive')\n",
    "import sys\n",
    "import os\n",
    "\n",
    "py_file_location = \"/content/gdrive/My Drive/Colab Notebooks/data\"\n",
    "sys.path.append(os.path.abspath(py_file_location))"
   ]
  },
  {
   "cell_type": "code",
   "execution_count": 1,
   "metadata": {
    "id": "r-EpYIZxXMbr"
   },
   "outputs": [],
   "source": [
    "import my_utils\n",
    "from my_utils import performPLSA\n",
    "from my_utils import plot_progress\n",
    "from my_utils import dispTopics"
   ]
  },
  {
   "cell_type": "markdown",
   "metadata": {
    "id": "mec4jiOnXR9V"
   },
   "source": [
    "## Run the following cell to start the EM algorithm on KOS corpus; number of 'topics', 'max_iterations' & 'epsilon' are adjustable. It would take around a minute for each iteration. For 16 topics & 70 iterations the run time has been 40 minutes on Colab"
   ]
  },
  {
   "cell_type": "code",
   "execution_count": 2,
   "metadata": {
    "colab": {
     "base_uri": "https://localhost:8080/"
    },
    "id": "qDBfZJy7XIa-",
    "outputId": "8d1300aa-85d9-4395-9433-bb3036ff903a"
   },
   "outputs": [
    {
     "name": "stdout",
     "output_type": "stream",
     "text": [
      "Parameters initialised\n",
      "iteration no 1: EM Step in progress.. EM Done, calculating LogL.. Log Likelihood value: -7379807\n",
      "iteration no 2: EM Step in progress.. EM Done, calculating LogL.. Log Likelihood value: -7375208\n",
      "iteration no 3: EM Step in progress.. EM Done, calculating LogL.. Log Likelihood value: -7370724\n",
      "iteration no 4: EM Step in progress.. EM Done, calculating LogL.. Log Likelihood value: -7365203\n",
      "\n",
      "EM ALGO HAS CONVERGED OR END OF ITERATIONS\n"
     ]
    }
   ],
   "source": [
    "# adjustable parameters\n",
    "topics = 8       # number of topics to be mined, larger the topic count, longer is the runtime\n",
    "max_iterations=4 # modify this to a small number like 5-10, if you are impatient, for each iteration takes over a minute\n",
    "epsilon =200\n",
    "# end of adjustable parameters\n",
    "\n",
    "(l_kos, l_y_kos, i_x_kos, p_d_z_kos, p_w_z_kos, p_z_kos)  = performPLSA(corpus='kos', topics=topics, max_iterations=max_iterations, epsilon=epsilon)\n",
    "\n"
   ]
  },
  {
   "cell_type": "markdown",
   "metadata": {
    "id": "b2-IffiGa7BN"
   },
   "source": [
    "## Run the following cell, after the EM algorithm is done to visualise the trajectory of LogLikeihood values"
   ]
  },
  {
   "cell_type": "code",
   "execution_count": 3,
   "metadata": {
    "colab": {
     "base_uri": "https://localhost:8080/",
     "height": 513
    },
    "id": "NWPL4ULkbP3-",
    "outputId": "7842d4c4-f9cb-4893-d5b2-88660a47fcb1"
   },
   "outputs": [
    {
     "data": {
      "image/png": "[encoded data removed]",
      "text/plain": [
       "<Figure size 1008x576 with 1 Axes>"
      ]
     },
     "metadata": {
      "needs_background": "light"
     },
     "output_type": "display_data"
    }
   ],
   "source": [
    "plot_progress(i_x_kos, l_y_kos, 'red', 'green', 'KOS Corpus')"
   ]
  },
  {
   "cell_type": "markdown",
   "metadata": {
    "id": "ZpyFp302bVKY"
   },
   "source": [
    "## Run the following cell, after EM algorith is done, to get a tabular display of the KOS topics, here the 'top_w' parameter correspond to the yop number of words that are desired from each topic."
   ]
  },
  {
   "cell_type": "code",
   "execution_count": 5,
   "metadata": {
    "colab": {
     "base_uri": "https://localhost:8080/"
    },
    "id": "1-rV_dl0bc-T",
    "outputId": "79c682b0-84f3-4f38-9d31-3a54f7d45a4a"
   },
   "outputs": [
    {
     "name": "stdout",
     "output_type": "stream",
     "text": [
      "+----------------------+----------------------+----------------------+--------------------+----------------------+------------------------+------------------------+---------------------+\n",
      "|              TOPIC 1 |              TOPIC 2 |              TOPIC 3 |            TOPIC 4 |              TOPIC 5 |                TOPIC 6 |                TOPIC 7 |             TOPIC 8 |\n",
      "+----------------------+----------------------+----------------------+--------------------+----------------------+------------------------+------------------------+---------------------+\n",
      "|    ['kerry', 0.0108] |     ['bush', 0.0382] | ['november', 0.0157] |    ['bush', 0.026] |     ['bush', 0.0339] | ['democratic', 0.0102] |       ['bush', 0.0251] |     ['bush', 0.025] |\n",
      "|      ['poll', 0.009] |    ['kerry', 0.0153] |    ['kerry', 0.0129] |  ['kerry', 0.0127] |  ['general', 0.0198] |      ['kerry', 0.0096] |      ['general', 0.01] | ['general', 0.0194] |\n",
      "| ['november', 0.0074] | ['november', 0.0134] |     ['iraq', 0.0069] |   ['poll', 0.0103] |   ['senate', 0.0073] |   ['november', 0.0092] | ['democratic', 0.0084] |   ['state', 0.0084] |\n",
      "|     ['bush', 0.0074] |     ['poll', 0.0121] |    ['state', 0.0067] | ['senate', 0.0074] | ['campaign', 0.0073] |       ['bush', 0.0072] |   ['campaign', 0.0062] |    ['dean', 0.0079] |\n",
      "+----------------------+----------------------+----------------------+--------------------+----------------------+------------------------+------------------------+---------------------+\n",
      "+---------------------+--------------------+---------------------+----------------------+----------------------+---------------------+--------------------+----------------------+\n",
      "|             TOPIC 1 |            TOPIC 2 |             TOPIC 3 |              TOPIC 4 |              TOPIC 5 |             TOPIC 6 |            TOPIC 7 |              TOPIC 8 |\n",
      "+---------------------+--------------------+---------------------+----------------------+----------------------+---------------------+--------------------+----------------------+\n",
      "| ['general', 0.0071] | ['senate', 0.0086] |   ['house', 0.0066] | ['campaign', 0.0065] | ['november', 0.0069] |    ['dean', 0.0063] |   ['iraq', 0.0061] | ['election', 0.0076] |\n",
      "|    ['dean', 0.0071] | ['general', 0.008] |     ['war', 0.0065] |    ['house', 0.0063] |    ['house', 0.0068] |  ['voters', 0.0051] |   ['poll', 0.0059] |    ['polls', 0.0065] |\n",
      "|     ['war', 0.0068] |   ['vote', 0.0074] | ['primary', 0.0056] |      ['war', 0.0057] |   ['states', 0.0064] | ['campaign', 0.005] | ['people', 0.0058] |     ['iraq', 0.0062] |\n",
      "+---------------------+--------------------+---------------------+----------------------+----------------------+---------------------+--------------------+----------------------+\n"
     ]
    }
   ],
   "source": [
    "# adjustable parameter\n",
    "top_w = 15\n",
    "# end of adjustable parameters\n",
    "\n",
    "vocab_kos = ['' for i in range (6906)]\n",
    "i=0\n",
    "with open('data/vocab.kos.txt') as file:\n",
    "    for line in file:\n",
    "      vocab_kos[i]=line.replace('\\n','')\n",
    "      i+=1\n",
    "\n",
    "dispTopics (top_w, p_w_z_kos, vocab_kos, topics)"
   ]
  },
  {
   "cell_type": "code",
   "execution_count": null,
   "metadata": {},
   "outputs": [],
   "source": []
  }
 ],
 "metadata": {
  "colab": {
   "name": "kos.ipynb",
   "provenance": []
  },
  "kernelspec": {
   "display_name": "Python 3 (ipykernel)",
   "language": "python",
   "name": "python3"
  },
  "language_info": {
   "codemirror_mode": {
    "name": "ipython",
    "version": 3
   },
   "file_extension": ".py",
   "mimetype": "text/x-python",
   "name": "python",
   "nbconvert_exporter": "python",
   "pygments_lexer": "ipython3",
   "version": "3.9.7"
  }
 },
 "nbformat": 4,
 "nbformat_minor": 1
}
